{
 "metadata": {
  "language_info": {
   "codemirror_mode": {
    "name": "ipython",
    "version": 3
   },
   "file_extension": ".py",
   "mimetype": "text/x-python",
   "name": "python",
   "nbconvert_exporter": "python",
   "pygments_lexer": "ipython3",
   "version": "3.8.5"
  },
  "orig_nbformat": 2,
  "kernelspec": {
   "name": "python385jvsc74a57bd0916dbcbb3f70747c44a77c7bcd40155683ae19c65e1c03b4aa3499c5328201f1",
   "display_name": "Python 3.8.5 64-bit"
  },
  "metadata": {
   "interpreter": {
    "hash": "916dbcbb3f70747c44a77c7bcd40155683ae19c65e1c03b4aa3499c5328201f1"
   }
  }
 },
 "nbformat": 4,
 "nbformat_minor": 2,
 "cells": [
  {
   "source": [
    "Goal of this notebook:\n",
    " - Implement the other type of determing connections between vertices at a time:\n",
    "     - There is only one edge between two vertices that represents connection.\n",
    "     - Each edge stores a \"log\" of changes to a connection, which is just a concatenation of strings of type \"CTTTTTTTTTT\" where the 10 Ts denote the Unix time, and C is a 1 or 0, representing whether or not a connection was formed or destroyed at this time.\n",
    "     - When querying the graph with a specific timestamp, look at a specific edge, then do a binary search on the \"time\" values of each element of the \"log\" list, and return whether the most recent change was a connection or a disconnection."
   ],
   "cell_type": "markdown",
   "metadata": {}
  },
  {
   "cell_type": "code",
   "execution_count": 90,
   "metadata": {},
   "outputs": [
    {
     "output_type": "stream",
     "name": "stdout",
     "text": [
      "[v[45152], v[28824], v[49248]]\n"
     ]
    }
   ],
   "source": [
    "# Jupyter notebook needs this or else it will crash\n",
    "import nest_asyncio\n",
    "nest_asyncio.apply()\n",
    "\n",
    "from gremlin_python import statics\n",
    "from gremlin_python.structure.graph import Graph\n",
    "from gremlin_python.process.graph_traversal import __\n",
    "from gremlin_python.driver.driver_remote_connection import DriverRemoteConnection\n",
    "from gremlin_python.process.traversal import P # NEW!!! Import predicates (gt, gte, lt, lte, etc.)\n",
    "from gremlin_python.process.traversal import Cardinality # NEW!!! Import Cardinality such as list_, set_ and single.\n",
    "\n",
    "# Instantiate a Gremlin Graph\n",
    "graph = Graph()\n",
    "\n",
    "# Connect to the server, instantiate traversal of graph.\n",
    "g = graph.traversal().withRemote(DriverRemoteConnection('ws://localhost:8182/gremlin','g'))\n",
    "\n",
    "# Get the vertices of the graph as a list, and print them.\n",
    "\n",
    "print(g.V().toList())"
   ]
  },
  {
   "cell_type": "code",
   "execution_count": 91,
   "metadata": {},
   "outputs": [
    {
     "output_type": "execute_result",
     "data": {
      "text/plain": [
       "[['E'], ['drop'], ['none'], ['values', '_ipython_canary_method_should_not_exist_'], ['values', '_ipython_canary_method_should_not_exist_']]"
      ]
     },
     "metadata": {},
     "execution_count": 91
    }
   ],
   "source": [
    "# Drop all vertices of the graph.\n",
    "g.V().drop().iterate()\n",
    "g.E().drop().iterate()"
   ]
  },
  {
   "cell_type": "code",
   "execution_count": 92,
   "metadata": {},
   "outputs": [
    {
     "output_type": "execute_result",
     "data": {
      "text/plain": [
       "v[57440]"
      ]
     },
     "metadata": {},
     "execution_count": 92
    }
   ],
   "source": [
    "# Add two vertices that are to be connected\n",
    "\n",
    "# Radio frequency over fiber\n",
    "g.addV().property('name', 'RFoF').next()\n",
    "\n",
    "# Analog-Digital converter\n",
    "g.addV().property('name', 'ADC').next()\n",
    "\n",
    "# Optical fiber\n",
    "g.addV().property('name', 'OF').next()\n"
   ]
  },
  {
   "cell_type": "code",
   "execution_count": 93,
   "metadata": {},
   "outputs": [],
   "source": [
    "def get_next_smallest_index(val, lst) -> int:\n",
    "    \"\"\"\n",
    "    Given a sorted list lst in increasing order and val where val is of the same type as all elements in lst, \n",
    "    do a binary search and return the lower bound on the index (if the exact value is not found).\n",
    "    \"\"\"\n",
    "\n",
    "    l, r = 0, len(lst) - 1\n",
    "\n",
    "    while l <= r:\n",
    "        mid = l + (r - l) // 2 \n",
    "        if val > lst[mid]:\n",
    "            l = mid + 1\n",
    "        elif val < lst[mid]:\n",
    "            r = mid - 1\n",
    "        else:\n",
    "            return mid\n",
    "    return l - 1\n",
    "\n",
    "# lst = [1, 3, 5, 7]\n",
    "# for i in range(10):\n",
    "#     print(i, lst[get_next_smallest_index(i, lst)])\n"
   ]
  },
  {
   "cell_type": "code",
   "execution_count": 94,
   "metadata": {},
   "outputs": [],
   "source": [
    "def connected(name1: str, name2: str, time: float) -> bool:\n",
    "    \"\"\"\n",
    "    Given two vertices labelled with <name1> and <name2>, determine whether they were connected at time <time>.\n",
    "    Do so by sending a Gremlin query to find an edge labelled 'connected' between the two vertices. If one exists, get its \"log\" of changes to connections (which is just a list), and do a binary search to determine whether at <time>, the edge was active.\n",
    "    \"\"\"\n",
    "\n",
    "    # Get the vertices associated with the names\n",
    "\n",
    "    # REMOVE THIS LINE: it is inefficient, just find the vertices in the same query as getting the list.\n",
    "    # v1, v2 = g.V().has('name', name1).next(), g.V().has('name', name2).next()\n",
    "\n",
    "    # Get the \"connection log\" list of the edge that connects v1 and v2. If no edge exists, this should be an empty list.\n",
    "    # The list should be of the format [[t, c], [t, c], ..., [t, c]], where t is the time of the change and c represents whether\n",
    "    # the element was connected or disconnected at the time.\n",
    "\n",
    "    # connections_list = g.V(v1).bothE('connection').filter(__.bothV().is_(v2)).values('connection_log').toList()\n",
    "\n",
    "    connections_list = g.V().has('name', name1).bothE('connection').as_('e').bothV().has('name', name2).select('e').values('connection_log').toList()\n",
    "\n",
    "    if len(connections_list) == 0:\n",
    "        return False\n",
    "    else:\n",
    "        connections = connections_list[0]\n",
    "\n",
    "        # How long each segment of the string is (1 for C, 10 for the Ts)\n",
    "        n = 11\n",
    "\n",
    "        # Get a list of the times of the connections\n",
    "        times = [int(connections[i + 1: i + n]) for i in range(0, len(connections), n)]\n",
    "\n",
    "        index = get_next_smallest_index(time, times)\n",
    "\n",
    "        # print(connections, index)\n",
    "\n",
    "        if index == -1:\n",
    "            return False\n",
    "        else:\n",
    "            return bool(int(connections[index * n]))"
   ]
  },
  {
   "cell_type": "code",
   "execution_count": 95,
   "metadata": {},
   "outputs": [],
   "source": [
    "def set_connection(name1: str, name2: str, time: float, connection: bool) -> None:\n",
    "    \"\"\"\n",
    "    Given two vertices labelled with <name1> and <name2>, either add a new entry to the connection log of the 'connection' edge connecting the two vertices, or create a new edge if such an edge does not already exist.\n",
    "    \n",
    "    Preconditions:\n",
    "         - time is greater than the times of all previous connections!\n",
    "\n",
    "    TODO: Add sphinx documentation if this will be implemented into the actual Python library.\n",
    "    \"\"\"\n",
    "\n",
    "    # This prevents multiple entries of the same type.\n",
    "    if connection != connected(name1, name2, time):\n",
    "\n",
    "        # Get the vertices associated with the names\n",
    "        v1, v2 = g.V().has('name', name1).next(), g.V().has('name', name2).next()\n",
    "\n",
    "        # this is either an empty list or a list containing one string\n",
    "        entry_list = g.V(v1).bothE('connection').filter(__.bothV().is_(v2)).values('connection_log').toList()\n",
    "\n",
    "        if len(entry_list) == 0:\n",
    "            prev_entry = \"\"\n",
    "        else:\n",
    "            prev_entry = entry_list[0]\n",
    "\n",
    "        # Append CTTTTTTTTTT to the previous log entry\n",
    "        entry = prev_entry + str(int(connection)) + str(int(time)).zfill(10)\n",
    "\n",
    "        g.V(v1).bothE('connection').filter(__.bothV().is_(v2)).fold().coalesce(\n",
    "            __.unfold(), \n",
    "            __.addE('connection').from_(v1).to(v2)\n",
    "        ).property('connection_log', entry).iterate()"
   ]
  },
  {
   "cell_type": "code",
   "execution_count": 96,
   "metadata": {},
   "outputs": [],
   "source": [
    "# Set some connections.\n",
    "\n",
    "rfof_adc = [(1, True), (3, False), (4, True), (5, False), (7, True)]\n",
    "rfof_of = [(2, True), (3, False), (5, True), (6, False), (9, True)]\n",
    "\n",
    "for (time, connection) in rfof_adc:\n",
    "    set_connection(name1='RFoF', name2='ADC', time=time, connection=connection)\n",
    "\n",
    "for (time, connection) in rfof_of:\n",
    "    set_connection(name1='RFoF', name2='OF', time=time, connection=connection)"
   ]
  },
  {
   "cell_type": "code",
   "execution_count": 97,
   "metadata": {},
   "outputs": [
    {
     "output_type": "stream",
     "name": "stdout",
     "text": [
      "(RFoF, ADC) at 0: False\n",
      "(RFoF, ADC) at 1: True\n",
      "(RFoF, ADC) at 2: True\n",
      "(RFoF, ADC) at 3: False\n",
      "(RFoF, ADC) at 4: True\n",
      "(RFoF, ADC) at 5: False\n",
      "(RFoF, ADC) at 6: False\n",
      "(RFoF, ADC) at 7: True\n",
      "(RFoF, ADC) at 8: True\n",
      "(RFoF, ADC) at 9: True\n",
      "(RFoF, ADC) at 10: True\n",
      "(RFoF, OF) at 0: False\n",
      "(RFoF, OF) at 1: False\n",
      "(RFoF, OF) at 2: True\n",
      "(RFoF, OF) at 3: False\n",
      "(RFoF, OF) at 4: False\n",
      "(RFoF, OF) at 5: True\n",
      "(RFoF, OF) at 6: False\n",
      "(RFoF, OF) at 7: False\n",
      "(RFoF, OF) at 8: False\n",
      "(RFoF, OF) at 9: True\n",
      "(RFoF, OF) at 10: True\n",
      "(ADC, OF) at 0: False\n",
      "(ADC, OF) at 1: False\n",
      "(ADC, OF) at 2: False\n",
      "(ADC, OF) at 3: False\n",
      "(ADC, OF) at 4: False\n",
      "(ADC, OF) at 5: False\n",
      "(ADC, OF) at 6: False\n",
      "(ADC, OF) at 7: False\n",
      "(ADC, OF) at 8: False\n",
      "(ADC, OF) at 9: False\n",
      "(ADC, OF) at 10: False\n"
     ]
    }
   ],
   "source": [
    "# Go through each combination of element and see if they are connected at all times from 0 to 10.\n",
    "\n",
    "import itertools\n",
    "\n",
    "time_min = 0\n",
    "time_max = 10\n",
    "\n",
    "names = ['RFoF', 'ADC', 'OF']\n",
    "\n",
    "combinations = list(itertools.combinations(names, 2))\n",
    "\n",
    "for (name1, name2) in combinations:\n",
    "    for time in range(time_min, time_max + 1):\n",
    "        print(f\"({name1}, {name2}) at {time}: {connected(name1, name2, time)}\")\n"
   ]
  },
  {
   "cell_type": "code",
   "execution_count": 98,
   "metadata": {},
   "outputs": [
    {
     "output_type": "stream",
     "name": "stdout",
     "text": [
      "Average time per call: 0.015619330303030303\n"
     ]
    }
   ],
   "source": [
    "# Go through each combination of element and see if they are connected at all times from 0 to 10.\n",
    "\n",
    "import itertools\n",
    "import datetime\n",
    "\n",
    "time_min = 0\n",
    "time_max = 10\n",
    "\n",
    "attempts = 100\n",
    "\n",
    "names = ['RFoF', 'ADC', 'OF']\n",
    "\n",
    "combinations = list(itertools.combinations(names, 2))\n",
    "\n",
    "now = datetime.datetime.now()\n",
    "\n",
    "for _ in range(attempts):\n",
    "    for (name1, name2) in combinations:\n",
    "        for time in range(time_min, time_max + 1):\n",
    "            connected(name1, name2, time)\n",
    "\n",
    "seconds = (datetime.datetime.now() - now).total_seconds()\n",
    "\n",
    "print(\"Average time per call:\", seconds / (attempts * (time_max + 1) * len(combinations)))"
   ]
  },
  {
   "cell_type": "code",
   "execution_count": null,
   "metadata": {},
   "outputs": [],
   "source": []
  }
 ]
}