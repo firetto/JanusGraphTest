{
 "metadata": {
  "language_info": {
   "codemirror_mode": {
    "name": "ipython",
    "version": 3
   },
   "file_extension": ".py",
   "mimetype": "text/x-python",
   "name": "python",
   "nbconvert_exporter": "python",
   "pygments_lexer": "ipython3",
   "version": "3.8.5"
  },
  "orig_nbformat": 2,
  "kernelspec": {
   "name": "python385jvsc74a57bd0916dbcbb3f70747c44a77c7bcd40155683ae19c65e1c03b4aa3499c5328201f1",
   "display_name": "Python 3.8.5 64-bit"
  },
  "metadata": {
   "interpreter": {
    "hash": "916dbcbb3f70747c44a77c7bcd40155683ae19c65e1c03b4aa3499c5328201f1"
   }
  }
 },
 "nbformat": 4,
 "nbformat_minor": 2,
 "cells": [
  {
   "cell_type": "code",
   "execution_count": 43,
   "metadata": {},
   "outputs": [
    {
     "output_type": "stream",
     "name": "stdout",
     "text": [
      "[v[462936], v[454744], v[123060232], v[123056136], v[487512], v[172096], v[82149544], v[41177184], v[221256], v[82153640], v[163904], v[82120904], v[41156704], v[204872], v[41185440], v[41201808], v[123068424], v[82125000], v[200776], v[446552], v[41164896], v[196680], v[41210000], v[491608], v[147520], v[82145448], v[41181280], v[41177248], v[438360], v[41205904], v[442456], v[213064], v[450648], v[208968], v[41214096], v[41185376], v[483416], v[41173088], v[159808], v[41181344], v[123064328], v[467032], v[479320], v[155712], v[217160], v[168000], v[41168992], v[225352], v[82157736], v[41160800], v[176192], v[143424], v[151616], v[475224], v[82129096], v[471128], v[458840]]\n"
     ]
    }
   ],
   "source": [
    "# Jupyter notebook needs this or else it will crash\n",
    "import nest_asyncio\n",
    "nest_asyncio.apply()\n",
    "\n",
    "from gremlin_python import statics\n",
    "from gremlin_python.structure.graph import Graph\n",
    "from gremlin_python.process.graph_traversal import __\n",
    "from gremlin_python.driver.driver_remote_connection import DriverRemoteConnection\n",
    "from gremlin_python.process.traversal import P # NEW!!! Import predicates (gt, gte, lt, lte, etc.)\n",
    "from gremlin_python.process.traversal import Cardinality # NEW!!! Import Cardinality such as list_, set_ and single.\n",
    "from gremlin_python.driver.protocol import GremlinServerError # Gremlin server error\n",
    "from gremlin_python.process.traversal import Pop # for Pop.all_ in select(Pop.all_, 'v')\n",
    "\n",
    "# Instantiate a Gremlin Graph\n",
    "graph = Graph()\n",
    "\n",
    "# Connect to the server, instantiate traversal of graph.\n",
    "g = graph.traversal().withRemote(DriverRemoteConnection('ws://localhost:8182/gremlin','g'))\n",
    "\n",
    "# Get the vertices of the graph as a list, and print them.\n",
    "\n",
    "print(g.V().toList())"
   ]
  },
  {
   "cell_type": "code",
   "execution_count": 44,
   "metadata": {},
   "outputs": [],
   "source": [
    "def connected(name1: str, name2: str, time: float) -> bool:\n",
    "    \"\"\"\n",
    "    Given two vertices labelled with <name1> and <name2>, determine whether they were connected at time <time>. \n",
    "    Do so by sending a Gremlin query to determine whether there exists an edge between the \n",
    "    two vertices such that <time> falls in between their \"start_time\" and \"end_time\" parameters.\n",
    "    TODO: Add sphinx documentation if this will be implemented into the actual Python library.\n",
    "    \"\"\"\n",
    "\n",
    "    # Get the vertices associated with the names\n",
    "    # v1, v2 = g.V().has('name', name1).next(), g.V().has('name', name2).next()\n",
    "\n",
    "    # Return whether there are edges that:\n",
    "    #   - connect v1 and v2, \n",
    "    #   - labelled 'connection',\n",
    "    #   - have a start time that is less than or equal to <time>\n",
    "    #   - either do not have an end time or have an end time that is greater than or equal to <time>\n",
    "    return g.V().has('name', name1).bothE('connection').as_('e').bothV().has('name', name2).select('e').and_(\n",
    "            __.has('start', P.lte(time)),   # want start time to be less than or equal to <time>\n",
    "            __.or_(\n",
    "                __.hasNot('end'),           # end time doesn't have to exist \n",
    "                __.has('end', P.gt(time))  # OR end time must be greater than <time>\n",
    "            )\n",
    "        ).count().next() > 0"
   ]
  },
  {
   "cell_type": "code",
   "execution_count": 45,
   "metadata": {},
   "outputs": [],
   "source": [
    "def set_connection(name1: str, name2: str, time: float, connection: bool) -> None:\n",
    "    \"\"\"\n",
    "    Given two vertices labelled with <name1> and <name2>, create a new connection or terminate their existing connection, based on the value of <bool>. Label with time <time>.\n",
    "\n",
    "    TODO: Add sphinx documentation if this will be implemented into the actual Python library.\n",
    "    \"\"\"\n",
    "\n",
    "    if connection:\n",
    "        if not connected(name1, name2, time):\n",
    "\n",
    "            # Add an edge labelled 'connection' with a start time of <time>\n",
    "            g.V().has('name', name1).as_(\"a\").V().has('name', name2).as_(\"b\").addE('connection').from_(\"a\").to(\"b\").property('start', time).iterate()\n",
    "\n",
    "    else:\n",
    "        # For all edges between v1 and v2 labelled 'connection' (there should only be one) that do not have an 'end' property, create an end property of <time>.\n",
    "        g.V().has('name', name1).bothE('connection').as_('e').bothV().has('name', name2).select('e').hasNot('end').property('end', time).iterate()"
   ]
  },
  {
   "cell_type": "code",
   "execution_count": 46,
   "metadata": {},
   "outputs": [],
   "source": [
    "def add_type(type: str) -> None:\n",
    "    \"\"\"\n",
    "    Add a vertex to the graph with a 'type' property of <type>.\n",
    "\n",
    "    TODO: Add sphinx documentation if this will be implemented into the actual Python library.\n",
    "    \"\"\"\n",
    "\n",
    "    g.addV().property('name', type).iterate()\n",
    "\n",
    "def set_type(name: str, type: str) -> None:\n",
    "    \"\"\"\n",
    "    Connect the vertex labelled with <name> to a vertex labelled <type> with an edge going into the <type> vertex labelled with \"type\".\n",
    "\n",
    "    TODO: Add sphinx documentation if this will be implemented into the actual Python library.\n",
    "    \"\"\"\n",
    "\n",
    "    g.V().has('name', name).as_(\"a\").V().has('name', type).as_(\"b\").addE(\"type\").from_(\"a\").to(\"b\").iterate()"
   ]
  },
  {
   "cell_type": "code",
   "execution_count": 47,
   "metadata": {},
   "outputs": [],
   "source": [
    "# This will put it in V-E-V-E-V-...-V form as a list per path.\n",
    "def find_paths(name1: str, name2: str, avoid_type: str, time: float):\n",
    "    \"\"\"\n",
    "    Given two vertices labelled with <name1> and <name2>, return the paths that connect the vertices by edges that were active at <time> as a list.\n",
    "\n",
    "    Avoid vertices of type avoid_type.\n",
    "\n",
    "    TODO: Add sphinx documentation if this will be implemented into the actual Python library.\n",
    "    \"\"\"\n",
    "\n",
    "    return g.V().has('name', name1).repeat(\n",
    "            __.bothE('connection').and_(\n",
    "                __.has('start', P.lte(time)),   # want start time to be less than or equal to <time>\n",
    "                __.or_(\n",
    "                    __.hasNot('end'),           # end time doesn't have to exist \n",
    "                    __.has('end', P.gt(time))  # OR end time must be greater than <time>\n",
    "                )\n",
    "            ).otherV().not_(__.outE('type').inV().has('name', avoid_type)).simplePath()\n",
    "        ).until(__.has('name', name2)).path().toList()"
   ]
  },
  {
   "cell_type": "code",
   "execution_count": 48,
   "metadata": {},
   "outputs": [
    {
     "output_type": "execute_result",
     "data": {
      "text/plain": [
       "[['io', 'path_benchmark_small_graph.xml'], ['write'], ['none'], ['values', '_ipython_canary_method_should_not_exist_'], ['values', '_ipython_canary_method_should_not_exist_']]"
      ]
     },
     "metadata": {},
     "execution_count": 48
    }
   ],
   "source": [
    "# Clear vertices\n",
    "g.V().drop().iterate()\n",
    "g.E().drop().iterate()\n",
    "\n",
    "\"\"\"\n",
    "(Temporary) Naming scheme:\n",
    " - COR######: Correlator input\n",
    " - ANT######: Antenna\n",
    " - DPF######: Dual-Polarization Feed\n",
    " - BLN######: (Active) Balun\n",
    " - RFT######: RFoF transmitter\n",
    " - OPF######: Optical Fiber\n",
    " - RFR######: RFoF receiver\n",
    " - ADC######: Analog-to-Digital converter\n",
    "\"\"\"\n",
    "\n",
    "# Set up the types\n",
    "types = ['COR', 'ANT', 'DPF', 'BLN', 'RFT', 'OPF', 'RFR', 'ADC']\n",
    "for type in types:\n",
    "    add_type(type)\n",
    "\n",
    "\n",
    "# Correlator node name\n",
    "cor = 'COR000000'\n",
    "\n",
    "# Add a correlator input node\n",
    "g.addV().property('name', cor).iterate()\n",
    "set_type(cor, 'COR')\n",
    "\n",
    "# number of HIRAX dishes\n",
    "dishes = 4\n",
    "\n",
    "# Connections at every 3.\n",
    "max_time = 12\n",
    "connections = [(i * 3, bool(i % 2)) for i in range(0, max_time // 3 + 1)]\n",
    "\n",
    "\n",
    "# Add the components and connect them at different times.\n",
    "for i in range(1, dishes + 1):\n",
    "\n",
    "    # The names of the components to refer to\n",
    "    ant = f'ANT{str(i).zfill(6)}'\n",
    "    dpf = f'DPF{str(i).zfill(6)}'\n",
    "    bln = (f'BLN{str(2 * i - 1).zfill(6)}', f'BLN{str(2 * i).zfill(6)}')\n",
    "    rft = (f'RFT{str(2 * i - 1).zfill(6)}', f'RFT{str(2 * i).zfill(6)}')\n",
    "    opf = (f'OPF{str(2 * i - 1).zfill(6)}', f'OPF{str(2 * i).zfill(6)}')\n",
    "    rfr = (f'RFR{str(2 * i - 1).zfill(6)}', f'RFR{str(2 * i).zfill(6)}')\n",
    "    adc = (f'ADC{str(2 * i - 1).zfill(6)}', f'ADC{str(2 * i).zfill(6)}')\n",
    "\n",
    "    g.addV().property('name', ant).iterate()\n",
    "    g.addV().property('name', dpf).iterate()\n",
    "\n",
    "    set_type(ant, 'ANT')\n",
    "    set_type(dpf, 'DPF')\n",
    "\n",
    "    for ind in (0, 1):\n",
    "        g.addV().property('name', bln[ind]).iterate()\n",
    "        g.addV().property('name', rft[ind]).iterate()\n",
    "        g.addV().property('name', opf[ind]).iterate()\n",
    "        g.addV().property('name', rfr[ind]).iterate()\n",
    "        g.addV().property('name', adc[ind]).iterate()\n",
    "\n",
    "        set_type(bln[ind], 'BLN')\n",
    "        set_type(rft[ind], 'RFT')\n",
    "        set_type(opf[ind], 'OPF')\n",
    "        set_type(rfr[ind], 'RFR')\n",
    "        set_type(adc[ind], 'ADC')\n",
    "\n",
    "    for (time, connection) in connections:\n",
    "\n",
    "            set_connection(name1=ant, name2=dpf, time=time, connection=connection)\n",
    "\n",
    "            for ind in (0, 1):\n",
    "\n",
    "                # Pairs of names to connect\n",
    "                pairs = [(ant, dpf), (dpf, bln[ind]), (bln[ind], rft[ind]), (rft[ind], opf[ind]), (opf[ind], rfr[ind]), (rfr[ind], adc[ind]), (adc[ind], cor)]\n",
    "\n",
    "                for pair in pairs:\n",
    "                    set_connection(name1=pair[0], name2=pair[1], time=time, connection=connection)\n",
    "\n",
    "# EXPORT THE GRAPH.\n",
    "g.io(\"path_benchmark_small_graph.xml\").write().iterate()\n"
   ]
  }
 ]
}