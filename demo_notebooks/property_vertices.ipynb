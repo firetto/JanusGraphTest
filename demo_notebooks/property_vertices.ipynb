{
 "metadata": {
  "language_info": {
   "codemirror_mode": {
    "name": "ipython",
    "version": 3
   },
   "file_extension": ".py",
   "mimetype": "text/x-python",
   "name": "python",
   "nbconvert_exporter": "python",
   "pygments_lexer": "ipython3",
   "version": "3.8.5"
  },
  "orig_nbformat": 2,
  "kernelspec": {
   "name": "python385jvsc74a57bd0916dbcbb3f70747c44a77c7bcd40155683ae19c65e1c03b4aa3499c5328201f1",
   "display_name": "Python 3.8.5 64-bit"
  },
  "metadata": {
   "interpreter": {
    "hash": "916dbcbb3f70747c44a77c7bcd40155683ae19c65e1c03b4aa3499c5328201f1"
   }
  }
 },
 "nbformat": 4,
 "nbformat_minor": 2,
 "cells": [
  {
   "source": [
    "Goal of this notebook: \n",
    "- Implement a system to represent the properties of an element with adjacent vertices storing the properties\n",
    "    - Each \"property vertex\" stores timestamp of property, property #, and whether the corresponding element was active at the time\n",
    "- Show how, given a time, a vertex can be queried to determine whether it was active during that time"
   ],
   "cell_type": "markdown",
   "metadata": {}
  },
  {
   "source": [
    "# Jupyter notebook needs this or else it will crash\n",
    "import nest_asyncio\n",
    "nest_asyncio.apply()\n",
    "\n",
    "from gremlin_python import statics\n",
    "from gremlin_python.structure.graph import Graph\n",
    "from gremlin_python.process.graph_traversal import __\n",
    "from gremlin_python.driver.driver_remote_connection import DriverRemoteConnection\n",
    "\n",
    "# Instantiate a Gremlin Graph\n",
    "graph = Graph()\n",
    "\n",
    "# Connect to the server, instantiate traversal of graph.\n",
    "g = graph.traversal().withRemote(DriverRemoteConnection('ws://localhost:8182/gremlin','g'))\n",
    "\n",
    "# Get the vertices of the graph as a list, and print them.\n",
    "\n",
    "print(g.V().toList())"
   ],
   "cell_type": "code",
   "metadata": {},
   "execution_count": 7,
   "outputs": [
    {
     "output_type": "stream",
     "name": "stdout",
     "text": [
      "[v[12400], v[49352], v[45256], v[24752], v[20560], v[49184], v[53448], v[36872], v[32776], v[24680], v[28680]]\n"
     ]
    }
   ]
  },
  {
   "source": [
    "Drop all vertices of the graph."
   ],
   "cell_type": "markdown",
   "metadata": {}
  },
  {
   "cell_type": "code",
   "execution_count": 8,
   "metadata": {},
   "outputs": [
    {
     "output_type": "execute_result",
     "data": {
      "text/plain": [
       "[['V'], ['drop'], ['none'], ['values', '_ipython_canary_method_should_not_exist_'], ['values', '_ipython_canary_method_should_not_exist_']]"
      ]
     },
     "metadata": {},
     "execution_count": 8
    }
   ],
   "source": [
    "g.V().drop().iterate()"
   ]
  },
  {
   "source": [
    "g.addV().property('name', 'ANT000').next()\n",
    "\n",
    "print(g.V().valueMap().toList())\n",
    "\n",
    "traversal = g.V().has('name', 'ANT000')\n",
    "\n",
    "print(traversal.outE().count().next())"
   ],
   "cell_type": "code",
   "metadata": {},
   "execution_count": 9,
   "outputs": [
    {
     "output_type": "stream",
     "name": "stdout",
     "text": [
      "[{'name': ['ANT000']}]\n0\n"
     ]
    }
   ]
  },
  {
   "cell_type": "code",
   "execution_count": 10,
   "metadata": {},
   "outputs": [],
   "source": [
    "def add_property(traversal: any, time: float, active: bool) -> None: \n",
    "    \"\"\"\n",
    "    Add a property vertex to the vertex contained within traversal.next(), and connect it by an edge labelled 'had_property' from traversal.next() to the property vertex.\n",
    "\n",
    "    <traversal> should be a traversal such that traversal.next() is a Vertex.\n",
    "\n",
    "    Traversals  \n",
    "    \"\"\"\n",
    "\n",
    "    # Vertex we are looking at.\n",
    "    v = traversal.clone().next()\n",
    "\n",
    "    # Number of properties that v has so far.\n",
    "\n",
    "    props_so_far = traversal.clone().outE('had_property').count().next()\n",
    "\n",
    "    p = g.addV() # Instantiate a new traversal to add a vertex to the graph. NOTE THAT THIS DOES NOT ACTUALLY ADD THE VERTEX TO THE GRAPH.\n",
    "    p.property('prop_ind', props_so_far) # Property index\n",
    "    p.property('time', time) # Set the timestamp of the property\n",
    "    p.property('active', active) # Set the active boolean of the property\n",
    "    g.V(v).addE('had_property').to(p.next()).next() # p.next() terminates the traversal and adds the vertex, and addE(...).to(...) adds an edge to the new vertex from the element vertex\n",
    "\n"
   ]
  },
  {
   "cell_type": "code",
   "execution_count": 11,
   "metadata": {},
   "outputs": [],
   "source": [
    "add_property(traversal=g.V().has('name', 'ANT000'), time=2, active=True)\n",
    "add_property(traversal=g.V().has('name', 'ANT000'), time=4, active=False)\n",
    "add_property(traversal=g.V().has('name', 'ANT000'), time=6, active=False)\n",
    "add_property(traversal=g.V().has('name', 'ANT000'), time=8, active=True)\n",
    "add_property(traversal=g.V().has('name', 'ANT000'), time=10, active=True)\n",
    "add_property(traversal=g.V().has('name', 'ANT000'), time=12, active=True)"
   ]
  },
  {
   "cell_type": "code",
   "execution_count": 12,
   "metadata": {},
   "outputs": [
    {
     "output_type": "stream",
     "name": "stdout",
     "text": [
      "[{'prop_ind': [0], 'active': [True], 'time': [2]}, {'prop_ind': [1], 'active': [False], 'time': [4]}, {'prop_ind': [2], 'active': [False], 'time': [6]}, {'prop_ind': [3], 'active': [True], 'time': [8]}, {'prop_ind': [4], 'active': [True], 'time': [10]}, {'prop_ind': [5], 'active': [True], 'time': [12]}]\n",
      "[2, 4, 6, 8, 10, 12]\n"
     ]
    }
   ],
   "source": [
    "# .order().by('time) sorts the vertices by their 'time' property.\n",
    "print(g.V().has('name', 'ANT000').out('had_property').order().by('time').valueMap().toList())\n",
    "\n",
    "print(g.V().has('name', 'ANT000').out('had_property').order().by('time').values('time').toList())"
   ]
  },
  {
   "cell_type": "code",
   "execution_count": 13,
   "metadata": {},
   "outputs": [
    {
     "output_type": "stream",
     "name": "stdout",
     "text": [
      "0 7\n1 1\n2 1\n3 3\n4 3\n5 5\n6 5\n7 7\n8 7\n9 7\n"
     ]
    }
   ],
   "source": [
    "def get_next_smallest_index(val, lst) -> int:\n",
    "    \"\"\"\n",
    "    Given a sorted list lst in increasing order and val where val is of the same type as all elements in lst, \n",
    "    do a binary search and return the lower bound on the index (if the exact value is not found).\n",
    "    \"\"\"\n",
    "\n",
    "    l, r = 0, len(lst) - 1\n",
    "\n",
    "    while l <= r:\n",
    "        mid = l + (r - l) // 2 \n",
    "        if val > lst[mid]:\n",
    "            l = mid + 1\n",
    "        elif val < lst[mid]:\n",
    "            r = mid - 1\n",
    "        else:\n",
    "            return mid\n",
    "    return l - 1\n",
    "\n",
    "lst = [1, 3, 5, 7]\n",
    "for i in range(10):\n",
    "    print(i, lst[get_next_smallest_index(i, lst)])"
   ]
  },
  {
   "cell_type": "code",
   "execution_count": 14,
   "metadata": {},
   "outputs": [],
   "source": [
    "# Here's how checking whether a vertex was active or not at a time COULD work.\n",
    "\n",
    "def check_active_at_time_1(name: str, time: float) -> bool:\n",
    "    \"\"\"\n",
    "    Check whether or not the vertex with name <name> was active at time <time>.\n",
    "    \"\"\"\n",
    "\n",
    "    lst = g.V().has('name', name).out('had_property').order().by('time').values('time').toList()\n",
    "\n",
    "    index = get_next_smallest_index(time, lst)\n",
    "\n",
    "    if index == -1:\n",
    "        return False\n",
    "    else:\n",
    "        return g.V().has('name', name).out('had_property').has('prop_ind', index).values('active').next()\n",
    "\n",
    "def check_active_at_time_2(name: str, time: float) -> bool:\n",
    "    \"\"\"\n",
    "    Check whether or not the vertex with name <name> was active at time <time>.\n",
    "\n",
    "    Only query the graph ONCE at the start, then do everything else in Python.\n",
    "    \"\"\"\n",
    "\n",
    "    # Get a list of the value maps of all adjacent properties connected to vertex by edge 'had_property', sorted.\n",
    "    adj = g.V().has('name', name).out('had_property').order().by('time').valueMap().toList()\n",
    "\n",
    "    # Extract the times\n",
    "    lst = [adj[i]['time'][0] for i in range(0, len(adj))]\n",
    "\n",
    "    index = get_next_smallest_index(time, lst)\n",
    "\n",
    "    if index == -1:\n",
    "        return False\n",
    "    else:\n",
    "        return adj[index]['active'][0]\n",
    "\n",
    "def dummy() -> bool:\n",
    "    \"\"\"\n",
    "    Imitate what the other functions do, but don't query the graph.\n",
    "    \"\"\"\n",
    "    adj = [\n",
    "        {'time': [2], 'active': [True]}, {'time': [3], 'active': [True]}, \n",
    "        {'time': [4], 'active': [False]}, {'time': [5], 'active': [True]}, \n",
    "        {'time': [6], 'active': [False]}, {'time': [7], 'active': [True]},\n",
    "        {'time': [8], 'active': [False]}, {'time': [9], 'active': [True]},]\n",
    "\n",
    "    # Extract the times\n",
    "    lst = [adj[i]['time'][0] for i in range(0, len(adj))]\n",
    "\n",
    "    index = get_next_smallest_index(6, lst)\n",
    "\n",
    "    if index == -1:\n",
    "        return False\n",
    "    else:\n",
    "        return adj[index]['active'][0]\n",
    "    \n"
   ]
  },
  {
   "cell_type": "code",
   "execution_count": 20,
   "metadata": {
    "tags": []
   },
   "outputs": [
    {
     "output_type": "stream",
     "name": "stdout",
     "text": [
      "Querying graph several times per call: 3.1038650999998936\n",
      "Querying graph once per call: 1.5480646999999408\n",
      "Performing the same operations but not querying graph: 0.0005719000000681262\n"
     ]
    }
   ],
   "source": [
    "from timeit import Timer\n",
    "\n",
    "name = 'ANT000'\n",
    "\n",
    "t = Timer('check_active_at_time_1(\"ANT000\", 2)','from __main__ import check_active_at_time_1')\n",
    "print(\"Querying graph several times per call:\", t.timeit(number=100))\n",
    "\n",
    "t = Timer('check_active_at_time_2(\"ANT000\", 2)','from __main__ import check_active_at_time_2')\n",
    "print(\"Querying graph once per call:\", t.timeit(number=100))\n",
    "\n",
    "t = Timer('dummy()','from __main__ import dummy')\n",
    "print(\"Performing the same operations but not querying graph:\", t.timeit(number=100))\n",
    "\n"
   ]
  },
  {
   "cell_type": "code",
   "execution_count": 21,
   "metadata": {},
   "outputs": [
    {
     "output_type": "stream",
     "name": "stdout",
     "text": [
      "Querying the graph: 1.5762877000001936\n"
     ]
    }
   ],
   "source": [
    "# Timing querying the graph\n",
    "from timeit import Timer\n",
    "\n",
    "\n",
    "t = Timer(\"g.V().has('name', 'ANT000').count().next()\",'from __main__ import g')\n",
    "print(\"Querying the graph:\", t.timeit(number=100))"
   ]
  },
  {
   "source": [
    "## Conclusion: querying the graph from Python TAKES A LONG TIME!!!\n",
    "\n",
    "Another note: ideally, you wouldn't query the graph for every vertex, but rather get a 'path of vertices' from JanusGraph along with their value map, then do it in Python."
   ],
   "cell_type": "markdown",
   "metadata": {}
  }
 ]
}