{
 "metadata": {
  "language_info": {
   "codemirror_mode": {
    "name": "ipython",
    "version": 3
   },
   "file_extension": ".py",
   "mimetype": "text/x-python",
   "name": "python",
   "nbconvert_exporter": "python",
   "pygments_lexer": "ipython3",
   "version": "3.8.5"
  },
  "orig_nbformat": 2,
  "kernelspec": {
   "name": "python385jvsc74a57bd0916dbcbb3f70747c44a77c7bcd40155683ae19c65e1c03b4aa3499c5328201f1",
   "display_name": "Python 3.8.5 64-bit"
  },
  "metadata": {
   "interpreter": {
    "hash": "916dbcbb3f70747c44a77c7bcd40155683ae19c65e1c03b4aa3499c5328201f1"
   }
  }
 },
 "nbformat": 4,
 "nbformat_minor": 2,
 "cells": [
  {
   "source": [
    "Goal of this notebook:\n",
    " - Design a simple graph to test shortest path queries on.\n",
    " - Implement shortest path queries that only go through edges that were active at a specific time using the first method of representing connecctions between vertices (one edge to represent a single connection with start and end times).\n",
    " "
   ],
   "cell_type": "markdown",
   "metadata": {}
  },
  {
   "cell_type": "code",
   "execution_count": 5,
   "metadata": {},
   "outputs": [
    {
     "output_type": "stream",
     "name": "stdout",
     "text": [
      "[]\n"
     ]
    }
   ],
   "source": [
    "# Jupyter notebook needs this or else it will crash\n",
    "import nest_asyncio\n",
    "nest_asyncio.apply()\n",
    "\n",
    "from gremlin_python import statics\n",
    "from gremlin_python.structure.graph import Graph\n",
    "from gremlin_python.process.graph_traversal import __\n",
    "from gremlin_python.driver.driver_remote_connection import DriverRemoteConnection\n",
    "from gremlin_python.process.traversal import P # NEW!!! Import predicates (gt, gte, lt, lte, etc.)\n",
    "from gremlin_python.process.traversal import Cardinality # NEW!!! Import Cardinality such as list_, set_ and single.\n",
    "from gremlin_python.driver.protocol import GremlinServerError # Gremlin server error\n",
    "from gremlin_python.process.traversal import Pop # for Pop.all_ in select(Pop.all_, 'v')\n",
    "\n",
    "# Instantiate a Gremlin Graph\n",
    "graph = Graph()\n",
    "\n",
    "# Connect to the server, instantiate traversal of graph.\n",
    "g = graph.traversal().withRemote(DriverRemoteConnection('ws://localhost:8182/gremlin','g'))\n",
    "\n",
    "# Get the vertices of the graph as a list, and print them.\n",
    "\n",
    "print(g.V().toList())"
   ]
  },
  {
   "cell_type": "code",
   "execution_count": 2,
   "metadata": {},
   "outputs": [
    {
     "output_type": "execute_result",
     "data": {
      "text/plain": [
       "[['V'], ['drop'], ['none'], ['values', '_ipython_canary_method_should_not_exist_'], ['values', '_ipython_canary_method_should_not_exist_']]"
      ]
     },
     "metadata": {},
     "execution_count": 2
    }
   ],
   "source": [
    "g.V().drop().iterate()"
   ]
  },
  {
   "cell_type": "code",
   "execution_count": 3,
   "metadata": {},
   "outputs": [],
   "source": [
    "def connected(name1: str, name2: str, time: float) -> bool:\n",
    "    \"\"\"\n",
    "    Given two vertices labelled with <name1> and <name2>, determine whether they were connected at time <time>. \n",
    "    Do so by sending a Gremlin query to determine whether there exists an edge between the \n",
    "    two vertices such that <time> falls in between their \"start_time\" and \"end_time\" parameters.\n",
    "    TODO: Add sphinx documentation if this will be implemented into the actual Python library.\n",
    "    \"\"\"\n",
    "\n",
    "    # Get the vertices associated with the names\n",
    "    # v1, v2 = g.V().has('name', name1).next(), g.V().has('name', name2).next()\n",
    "\n",
    "    # Return whether there are edges that:\n",
    "    #   - connect v1 and v2, \n",
    "    #   - labelled 'connection',\n",
    "    #   - have a start time that is less than or equal to <time>\n",
    "    #   - either do not have an end time or have an end time that is greater than or equal to <time>\n",
    "    return g.V().has('name', name1).bothE('connection').as_('e').bothV().has('name', name2).select('e').and_(\n",
    "            __.has('start', P.lte(time)),   # want start time to be less than or equal to <time>\n",
    "            __.or_(\n",
    "                __.hasNot('end'),           # end time doesn't have to exist \n",
    "                __.has('end', P.gt(time))  # OR end time must be greater than <time>\n",
    "            )\n",
    "        ).count().next() > 0"
   ]
  },
  {
   "cell_type": "code",
   "execution_count": 4,
   "metadata": {},
   "outputs": [],
   "source": [
    "def set_connection(name1: str, name2: str, time: float, connection: bool) -> None:\n",
    "    \"\"\"\n",
    "    Given two vertices labelled with <name1> and <name2>, create a new connection or terminate their existing connection, based on the value of <bool>. Label with time <time>.\n",
    "\n",
    "    TODO: Add sphinx documentation if this will be implemented into the actual Python library.\n",
    "    \"\"\"\n",
    "\n",
    "    if connection:\n",
    "        if not connected(name1, name2, time):\n",
    "\n",
    "            # Add an edge labelled 'connection' with a start time of <time>\n",
    "            g.V().has('name', name1).as_(\"a\").V().has('name', name2).as_(\"b\").addE('connection').from_(\"a\").to(\"b\").property('start', time).iterate()\n",
    "\n",
    "    else:\n",
    "        # For all edges between v1 and v2 labelled 'connection' (there should only be one) that do not have an 'end' property, create an end property of <time>.\n",
    "        g.V().has('name', name1).bothE('connection').as_('e').bothV().has('name', name2).select('e').hasNot('end').property('end', time).iterate()"
   ]
  },
  {
   "cell_type": "code",
   "execution_count": 6,
   "metadata": {},
   "outputs": [],
   "source": [
    "def find_paths(name1: str, name2: str, time: float):\n",
    "    \"\"\"\n",
    "    Given two vertices labelled with <name1> and <name2>, return the paths that connect the vertices by edges that were active at <time> as a list.\n",
    "\n",
    "    TODO: Add sphinx documentation if this will be implemented into the actual Python library.\n",
    "    \"\"\"\n",
    "\n",
    "    return g.V().has('name', name1).repeat(\n",
    "            __.bothE().and_(\n",
    "                __.has('start', P.lte(time)),   # want start time to be less than or equal to <time>\n",
    "                __.or_(\n",
    "                    __.hasNot('end'),           # end time doesn't have to exist \n",
    "                    __.has('end', P.gt(time))  # OR end time must be greater than <time>\n",
    "                )\n",
    "            ).otherV().simplePath().as_(\"v\")\n",
    "        ).until(__.has('name', name2)).select(Pop.all_, 'v').toList()"
   ]
  },
  {
   "cell_type": "code",
   "execution_count": null,
   "metadata": {},
   "outputs": [],
   "source": []
  }
 ]
}