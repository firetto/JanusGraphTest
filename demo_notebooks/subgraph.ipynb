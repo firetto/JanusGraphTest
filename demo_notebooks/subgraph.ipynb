{
 "metadata": {
  "language_info": {
   "codemirror_mode": {
    "name": "ipython",
    "version": 3
   },
   "file_extension": ".py",
   "mimetype": "text/x-python",
   "name": "python",
   "nbconvert_exporter": "python",
   "pygments_lexer": "ipython3",
   "version": "3.8.5"
  },
  "orig_nbformat": 2,
  "kernelspec": {
   "name": "python385jvsc74a57bd0916dbcbb3f70747c44a77c7bcd40155683ae19c65e1c03b4aa3499c5328201f1",
   "display_name": "Python 3.8.5 64-bit"
  }
 },
 "nbformat": 4,
 "nbformat_minor": 2,
 "cells": [
  {
   "source": [
    "Goal of this notebook:\n",
    " - Determine whether subgraphing can be done in Gremlin-Python\n",
    " - If so, implement subgraphing based on time and perform path queries on it. Benchmark those queries."
   ],
   "cell_type": "markdown",
   "metadata": {}
  },
  {
   "cell_type": "code",
   "execution_count": 29,
   "metadata": {},
   "outputs": [],
   "source": [
    "# Jupyter notebook needs this or else it will crash\n",
    "from datetime import datetime\n",
    "import nest_asyncio\n",
    "nest_asyncio.apply()\n",
    "\n",
    "from gremlin_python import statics\n",
    "from gremlin_python.structure.graph import Graph\n",
    "from gremlin_python.process.graph_traversal import __\n",
    "from gremlin_python.driver.driver_remote_connection import DriverRemoteConnection\n",
    "from gremlin_python.driver import client\n",
    "from gremlin_python.process.traversal import P # NEW!!! Import predicates (gt, gte, lt, lte, etc.)\n",
    "from gremlin_python.process.traversal import Cardinality # NEW!!! Import Cardinality such as list_, set_ and single.\n",
    "from gremlin_python.driver.protocol import GremlinServerError # Gremlin server error\n",
    "from gremlin_python.process.traversal import Pop # for Pop.all_ in select(Pop.all_, 'v')\n",
    "from gremlin_python.process.strategies import SubgraphStrategy\n",
    "\n",
    "# Instantiate a Gremlin Graph\n",
    "graph = Graph()\n",
    "\n",
    "# Instantiate Gremlin client\n",
    "gremlin_client = client.Client('ws://localhost:8182/gremlin', 'g')\n",
    "\n",
    "# Connect to the server, instantiate traversal of graph.\n",
    "g = graph.traversal().withRemote(DriverRemoteConnection('ws://localhost:8182/gremlin','g'))"
   ]
  },
  {
   "cell_type": "code",
   "execution_count": 30,
   "metadata": {},
   "outputs": [
    {
     "output_type": "stream",
     "name": "stdout",
     "text": [
      "12297\n",
      "13312\n"
     ]
    }
   ],
   "source": [
    "# Test.\n",
    "\n",
    "time = 2\n",
    "\n",
    "sg = g.withStrategies(SubgraphStrategy(edges=__.and_(\n",
    "    __.has('start', P.lte(time)),   # want start time to be less than or equal to <time>\n",
    "    __.or_(\n",
    "        __.hasNot('end'),           # end time doesn't have to exist \n",
    "        __.has('end', P.gt(time))  # OR end time must be greater than <time>\n",
    "    )\n",
    ")))\n",
    "\n",
    "print(sg.V().count().next())\n",
    "print(sg.E().count().next())"
   ]
  },
  {
   "cell_type": "code",
   "execution_count": null,
   "metadata": {},
   "outputs": [],
   "source": []
  }
 ]
}