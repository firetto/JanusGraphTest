{
 "metadata": {
  "language_info": {
   "codemirror_mode": {
    "name": "ipython",
    "version": 3
   },
   "file_extension": ".py",
   "mimetype": "text/x-python",
   "name": "python",
   "nbconvert_exporter": "python",
   "pygments_lexer": "ipython3",
   "version": "3.8.5"
  },
  "orig_nbformat": 2,
  "kernelspec": {
   "name": "python3",
   "display_name": "Python 3.8.5 64-bit"
  },
  "metadata": {
   "interpreter": {
    "hash": "916dbcbb3f70747c44a77c7bcd40155683ae19c65e1c03b4aa3499c5328201f1"
   }
  },
  "interpreter": {
   "hash": "31f2aee4e71d21fbe5cf8b01ff0e069b9275f58929596ceb00d14d90e3e16cd6"
  }
 },
 "nbformat": 4,
 "nbformat_minor": 2,
 "cells": [
  {
   "source": [
    "Goal of this notebook:\n",
    "\n",
    " - Implement the first type of determining connections between edges at a time:\n",
    "   - Each new connection is represented by a separate edge with a start and end time.\n",
    "   - When querying the graph with a specific timestamp, filter the edges based on the time and get the count. If count > 0, then a connection existed between the edges at this time."
   ],
   "cell_type": "markdown",
   "metadata": {}
  },
  {
   "cell_type": "code",
   "execution_count": 15,
   "metadata": {
    "tags": []
   },
   "outputs": [],
   "source": [
    "# Jupyter notebook needs this or else it will crash\n",
    "import nest_asyncio\n",
    "nest_asyncio.apply()\n",
    "\n",
    "from gremlin_python import statics\n",
    "from gremlin_python.structure.graph import Graph\n",
    "from gremlin_python.process.graph_traversal import __\n",
    "from gremlin_python.driver.driver_remote_connection import DriverRemoteConnection\n",
    "from gremlin_python.process.traversal import P # NEW!!! Import predicates (gt, gte, lt, lte, etc.)\n",
    "\n",
    "# Instantiate a Gremlin Graph\n",
    "graph = Graph()\n",
    "\n",
    "# Connect to the server, instantiate traversal of graph.\n",
    "g = graph.traversal().withRemote(DriverRemoteConnection('ws://localhost:8182/gremlin','g'))\n",
    "\n",
    "end_placeholder = 2**63 - 1"
   ]
  },
  {
   "cell_type": "code",
   "execution_count": 16,
   "metadata": {},
   "outputs": [],
   "source": [
    "# Drop all vertices of the graph.\n",
    "# g.V().drop().iterate()\n",
    "# g.E().drop().iterate()"
   ]
  },
  {
   "cell_type": "code",
   "execution_count": 17,
   "metadata": {},
   "outputs": [
    {
     "output_type": "execute_result",
     "data": {
      "text/plain": [
       "v[4216]"
      ]
     },
     "metadata": {},
     "execution_count": 17
    }
   ],
   "source": [
    "# Add two vertices that are to be connected\n",
    "\n",
    "# Radio frequency over fiber\n",
    "g.addV().property('name', 'RFoF').next()\n",
    "\n",
    "# Analog-Digital converter\n",
    "g.addV().property('name', 'ADC').next()\n",
    "\n",
    "# Optical fiber\n",
    "g.addV().property('name', 'OF').next()\n"
   ]
  },
  {
   "cell_type": "code",
   "execution_count": 18,
   "metadata": {},
   "outputs": [],
   "source": [
    "def connected(name1: str, name2: str, time: float) -> bool:\n",
    "    \"\"\"\n",
    "    Given two vertices labelled with <name1> and <name2>, determine whether they were connected at time <time>. \n",
    "    Do so by sending a Gremlin query to determine whether there exists an edge between the \n",
    "    two vertices such that <time> falls in between their \"start_time\" and \"end_time\" parameters.\n",
    "    TODO: Add sphinx documentation if this will be implemented into the actual Python library.\n",
    "    \"\"\"\n",
    "\n",
    "    # Get the vertices associated with the names\n",
    "    # v1, v2 = g.V().has('name', name1).next(), g.V().has('name', name2).next()\n",
    "\n",
    "    # Return whether there are edges that:\n",
    "    #   - connect v1 and v2, \n",
    "    #   - labelled 'connection',\n",
    "    #   - have a start time that is less than or equal to <time>\n",
    "    #   - either do not have an end time or have an end time that is greater than or equal to <time>\n",
    "    return g.V().has('name', name1).bothE('connection').as_('e').bothV().has('name', name2).select('e').and_(\n",
    "            __.has('start', P.lte(time)),   # want start time to be less than or equal to <time>\n",
    "            __.has('end', P.gt(time))  # end time must be greater than <time>\n",
    "        ).count().next() > 0"
   ]
  },
  {
   "cell_type": "code",
   "execution_count": 19,
   "metadata": {},
   "outputs": [
    {
     "output_type": "stream",
     "name": "stdout",
     "text": [
      "False\n"
     ]
    }
   ],
   "source": [
    "print(connected('RFoF', 'ADC', 5))"
   ]
  },
  {
   "cell_type": "code",
   "execution_count": 20,
   "metadata": {},
   "outputs": [],
   "source": [
    "def set_connection(name1: str, name2: str, time: float, connection: bool) -> None:\n",
    "    \"\"\"\n",
    "    Given two vertices labelled with <name1> and <name2>, create a new connection or terminate their existing connection, based on the value of <bool>. Label with time <time>.\n",
    "\n",
    "    TODO: Add sphinx documentation if this will be implemented into the actual Python library.\n",
    "    \"\"\"\n",
    "\n",
    "    if connection:\n",
    "        # Add an edge labelled 'connection' with a start time of <time>\n",
    "        g.V().has('name', name1).as_(\"a\").not_( # NEGATE \n",
    "            __.bothE('connection').as_('e').bothV().has('name', name2).select('e').and_(\n",
    "                __.has('start', P.lte(time)),\n",
    "                __.has('end', P.gt(time))\n",
    "            )\n",
    "        ).V().has('name', name2).as_(\"b\").addE('connection').from_(\"a\").to(\"b\").property('start', time).property('end', end_placeholder).iterate()\n",
    "\n",
    "    else:\n",
    "        # For all edges between v1 and v2 labelled 'connection' (there should only be one) that do not have an 'end' property, create an end property of <time>.\n",
    "        g.V().has('name', name1).bothE('connection').as_('e').bothV().has('name', name2).select('e').has('end', end_placeholder).property('end', time).iterate()"
   ]
  },
  {
   "cell_type": "code",
   "execution_count": 21,
   "metadata": {},
   "outputs": [],
   "source": [
    "# Set some connections.\n",
    "\n",
    "rfof_adc = [(1, True), (3, False), (4, True), (5, False), (7, True)]\n",
    "rfof_of = [(2, True), (3, False), (5, True), (6, False), (9, True)]\n",
    "\n",
    "for (time, connection) in rfof_adc:\n",
    "    set_connection(name1='RFoF', name2='ADC', time=time, connection=connection)\n",
    "\n",
    "for (time, connection) in rfof_of:\n",
    "    set_connection(name1='RFoF', name2='OF', time=time, connection=connection)"
   ]
  },
  {
   "cell_type": "code",
   "execution_count": 22,
   "metadata": {},
   "outputs": [
    {
     "output_type": "stream",
     "name": "stdout",
     "text": [
      "(RFoF, ADC) at 0: False\n",
      "(RFoF, ADC) at 1: True\n",
      "(RFoF, ADC) at 2: True\n",
      "(RFoF, ADC) at 3: False\n",
      "(RFoF, ADC) at 4: True\n",
      "(RFoF, ADC) at 5: False\n",
      "(RFoF, ADC) at 6: False\n",
      "(RFoF, ADC) at 7: True\n",
      "(RFoF, ADC) at 8: True\n",
      "(RFoF, ADC) at 9: True\n",
      "(RFoF, ADC) at 10: True\n",
      "(RFoF, OF) at 0: False\n",
      "(RFoF, OF) at 1: False\n",
      "(RFoF, OF) at 2: True\n",
      "(RFoF, OF) at 3: False\n",
      "(RFoF, OF) at 4: False\n",
      "(RFoF, OF) at 5: True\n",
      "(RFoF, OF) at 6: False\n",
      "(RFoF, OF) at 7: False\n",
      "(RFoF, OF) at 8: False\n",
      "(RFoF, OF) at 9: True\n",
      "(RFoF, OF) at 10: True\n",
      "(ADC, OF) at 0: False\n",
      "(ADC, OF) at 1: False\n",
      "(ADC, OF) at 2: False\n",
      "(ADC, OF) at 3: False\n",
      "(ADC, OF) at 4: False\n",
      "(ADC, OF) at 5: False\n",
      "(ADC, OF) at 6: False\n",
      "(ADC, OF) at 7: False\n",
      "(ADC, OF) at 8: False\n",
      "(ADC, OF) at 9: False\n",
      "(ADC, OF) at 10: False\n"
     ]
    }
   ],
   "source": [
    "# Go through each combination of element and see if they are connected at all times from 0 to 10.\n",
    "\n",
    "\n",
    "import itertools\n",
    "\n",
    "time_min = 0\n",
    "time_max = 10\n",
    "\n",
    "names = ['RFoF', 'ADC', 'OF']\n",
    "\n",
    "combinations = list(itertools.combinations(names, 2))\n",
    "\n",
    "for (name1, name2) in combinations:\n",
    "    for time in range(time_min, time_max + 1):\n",
    "        print(f\"({name1}, {name2}) at {time}: {connected(name1, name2, time)}\")"
   ]
  },
  {
   "cell_type": "code",
   "execution_count": 23,
   "metadata": {},
   "outputs": [
    {
     "output_type": "stream",
     "name": "stdout",
     "text": [
      "Average time per call: 0.009974036363636363\n"
     ]
    }
   ],
   "source": [
    "# Go through each combination of element and see if they are connected at all times from 0 to 10.\n",
    "\n",
    "import itertools\n",
    "import datetime\n",
    "\n",
    "time_min = 0\n",
    "time_max = 10\n",
    "\n",
    "attempts = 5\n",
    "\n",
    "names = ['RFoF', 'ADC', 'OF']\n",
    "\n",
    "combinations = list(itertools.combinations(names, 2))\n",
    "\n",
    "now = datetime.datetime.now()\n",
    "\n",
    "for _ in range(attempts):\n",
    "    for (name1, name2) in combinations:\n",
    "        for time in range(time_min, time_max + 1):\n",
    "            connected(name1, name2, time)\n",
    "\n",
    "seconds = (datetime.datetime.now() - now).total_seconds()\n",
    "\n",
    "print(\"Average time per call:\", seconds / (attempts * (time_max + 1) * len(combinations)))"
   ]
  }
 ]
}